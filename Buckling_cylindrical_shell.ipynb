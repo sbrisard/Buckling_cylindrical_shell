{
 "cells": [
  {
   "cell_type": "markdown",
   "id": "30953137-5f29-4220-b8d0-ac03bfa8b548",
   "metadata": {
    "tags": []
   },
   "source": [
    "# Buckling of a cylindrical shell\n",
    "\n",
    "In the present notebook, the critical load of a uniformly compressed cylindrical shell is found.\n",
    "\n",
    "A cylindrical shell is considered ($L$: length; $R$: radius; $h$: thickness).\n",
    "\n",
    "The constitutive material follows a Kirchhoff--Saint-Venant law ($E$: Young modulus, $\\nu$: Poisson ratio).\n",
    "\n",
    "The shell is subjected to an axial compression $q$, so that the total applied force is $2\\pi Rq$. For each value of the applied load $q$, we find a particular equilibrium $\\mathbf u^\\star(q)$, the so-called *fundamental path*. In the present case, the fundamental path is axisymmetric, constant in $z$. Note that $\\mathbf u^\\star(q)$ is in fact a field, that depends on the observation point $\\mathsf M$: $\\mathbf u^\\star(\\mathsf M, q)$.\n",
    "\n",
    "We seek the *critical* value of $q$, $q_\\mathrm{cr}$, for which the equilibrium on the fondamental path, $\\mathbf u^\\star(q_\\text{cr})$ becomes unstable. The approach that we follow here is quite general: we first compute the total potential energy $\\Pi(\\mathbf u, q)$ of the system, *including geometric non-linearities*. For a fixed value of the loading parameter $q$, we then evaluate the total potential energy *in the neighborhood* of the fundamental path, and check whether the potentatial energy is indeed minimal. In other words, we must assess the sign of the following quantity\n",
    "\n",
    "\\begin{equation*}\n",
    "\\Pi[\\mathbf u^\\star(q)+\\delta\\mathbf u, q]-\\Pi[\\mathbf u^\\star(q), q].\n",
    "\\end{equation*}\n",
    "\n",
    "For a *fully rigorous stability analysis*, the above quantity should be evaluated for *any* test-function $\\delta\\mathbf u$. As a first step, we will evaluate the potential energy for a two-parameter family of test-functions. This therefore provides an estimate *in excess* of the critical load.\n",
    "\n",
    "Note that the present derivation is somewhat tedious; we will therefore call the [sympy](https://docs.sympy.org/latest/index.html) library to the rescue.\n",
    "\n",
    "The notebook is organized as follows. In Sec. 1, we define the geometry of the underformed cylinder."
   ]
  },
  {
   "cell_type": "markdown",
   "id": "98a25907-8244-4213-8b5f-5fe85a98f282",
   "metadata": {},
   "source": [
    "## 0. Setting-up the stage\n",
    "\n",
    "We first load the `sympy` module and define a few symbols to represent the parameters of the problem at hand."
   ]
  },
  {
   "cell_type": "code",
   "execution_count": null,
   "id": "dec68345-e9d4-4113-8a1d-c5ea4d1697f5",
   "metadata": {},
   "outputs": [],
   "source": [
    "import sympy"
   ]
  },
  {
   "cell_type": "markdown",
   "id": "f4a557a7-bb90-4761-856a-9f0a04693fd4",
   "metadata": {},
   "source": [
    "Classical, letter-like symbols are defined through a simple import."
   ]
  },
  {
   "cell_type": "code",
   "execution_count": null,
   "id": "08c8fbb5-d0e3-44f3-b46a-a6411014e007",
   "metadata": {},
   "outputs": [],
   "source": [
    "from sympy.abc import h, q, z, D, R"
   ]
  },
  {
   "cell_type": "markdown",
   "id": "df09e017-41a3-4fb8-816c-b3f8c451150f",
   "metadata": {},
   "source": [
    "For more complex definitions, you need to use the `Symbol` class, for example if you want to specify the sign of a constant (this will be used by sympy below to eliminate some discussions below)"
   ]
  },
  {
   "cell_type": "code",
   "execution_count": null,
   "id": "e07baab3-57b7-4bc4-be35-8f6737f8c02a",
   "metadata": {},
   "outputs": [],
   "source": [
    "L = sympy.Symbol(\"L\", positive=True)"
   ]
  },
  {
   "cell_type": "markdown",
   "id": "fb70c938-e020-45ac-bf62-1f0c942d765a",
   "metadata": {},
   "source": [
    "or if you want to have better control over the way the symbols are displayed"
   ]
  },
  {
   "cell_type": "code",
   "execution_count": null,
   "id": "4b8394fa-5d50-472c-b3b2-dacd999d0dda",
   "metadata": {},
   "outputs": [],
   "source": [
    "θ, Eh, ν = sympy.symbols(r\"\\theta Eh \\nu\")"
   ]
  },
  {
   "cell_type": "markdown",
   "id": "ef53791e-8b19-428e-b01f-2074d825808f",
   "metadata": {},
   "source": [
    "**Notes:**\n",
    "1. You can use the `symbols` function to define several symbols at a time. Their names should be separated by spaces or commas in the provided strings.\n",
    "2. Note the prefix `r` in the above string. This defines a *raw* string, for which backslash is interpreted as is. In a regular string, remember that backslashes must be doubled like so `\"\\\\theta Eh \\\\nu\"` (overwise, `\\t` is interpreted as tabulation, and `\\n` as newline).\n",
    "3. The bending stiffness of the cylinder is `D`, while its membrane stiffness is `Eh / (1 - ν**2)`, where `Eh` is a unique symbol. Of course, `D` and `Eh` are not independent, since `D = Eh * h** 2 / 12 / (1 - ν**2)`. Still, it will be convenient to use *two* different variables."
   ]
  },
  {
   "cell_type": "markdown",
   "id": "8a529ad5-155a-48e8-8e4a-4bcced60b8dd",
   "metadata": {},
   "source": [
    "## 1. Definition of the geometry of the cylinder"
   ]
  },
  {
   "cell_type": "markdown",
   "id": "b6c8f012-f09b-493b-b626-3fa75c37bb38",
   "metadata": {},
   "source": [
    "The dimensions `R`, `L` , `h` have already been defined, as well as the curvilinear coordinates `θ` and `z`.\n",
    "\n",
    "In what follows, vectors of the euclidean space will be expressed as column-vectors, while 2nd order tensors will be expressed as matrices. **We will systematically work in the cylindrical basis**, defined as follows"
   ]
  },
  {
   "cell_type": "code",
   "execution_count": null,
   "id": "94b7cff2-8d48-4fe5-8625-0924298867d5",
   "metadata": {},
   "outputs": [],
   "source": [
    "e_r = sympy.Matrix([1, 0, 0])\n",
    "e_θ = sympy.Matrix([0, 1, 0])\n",
    "e_z = sympy.Matrix([0, 0, 1])"
   ]
  },
  {
   "cell_type": "markdown",
   "id": "3738ff63-028b-4547-b433-eba872a3ddef",
   "metadata": {},
   "source": [
    "Note that the first component of a vector is therefore *normal* to the cylinder; in other words, the first component of a tangent vector must vanish. The projection onto the tangent plane has the following simple expression"
   ]
  },
  {
   "cell_type": "code",
   "execution_count": null,
   "id": "64a598e4-f1a4-4ed4-88a3-27e3950813f0",
   "metadata": {},
   "outputs": [],
   "source": [
    "A = sympy.eye(3)\n",
    "A[0, 0] = 0\n",
    "A"
   ]
  },
  {
   "cell_type": "markdown",
   "id": "da8e44d5-2c76-41fc-b5ac-b2ca583e0c13",
   "metadata": {},
   "source": [
    "Note that we chose to represent a second order tensor of the tangent plane as a 3×3, even if the first row and first column vanish. We now define the curvature tensor, $\\mathbf B$ (beware the sign of the curvature!)"
   ]
  },
  {
   "cell_type": "code",
   "execution_count": null,
   "id": "781d7c6a-d15b-46eb-861d-b5ed95d7ad10",
   "metadata": {},
   "outputs": [],
   "source": [
    "B = sympy.zeros(3, 3)\n",
    "B[1, 1] = -1 / R\n",
    "B"
   ]
  },
  {
   "cell_type": "markdown",
   "id": "0640c408-aa2e-42c2-b18f-c15b367fc234",
   "metadata": {},
   "source": [
    "Finally, we need to be able to compute the surface gradient of a vector field. We have the following formula\n",
    "\n",
    "\\begin{equation*}\n",
    "\\operatorname{\\textbf{Grad}}\\mathbf T=\\frac1R \\partial_\\theta\\mathbf T \\otimes \\mathbf{e}_\\theta + \\partial_z\\mathbf T \\otimes \\mathbf{e}_z,\n",
    "\\end{equation*}\n",
    "\n",
    "for any tensor field $\\mathbf T$. For an axisymmetric vector field $\\mathbf v=v_r(z)\\,\\mathbf{e}_r+v_\\theta(z)\\,\\mathbf{e}_\\theta+v_z(z)\\,\\mathbf{e}_z$, the above formula reads\n",
    "\n",
    "\\begin{equation*}\n",
    "\\begin{aligned}\n",
    "\\operatorname{\\textbf{Grad}}\\mathbf v &= \\frac 1R\\bigl(v_r\\,\\mathbf{e}_\\theta - v_\\theta\\,\\mathbf{e}_r\\bigr)\\otimes\\mathbf{e}_r + \\bigl(v_r'\\,\\mathbf{e}_r + v_\\theta'\\,\\mathbf{e}_\\theta + v_z' \\,\\mathbf{e}_z\\bigr)\\otimes\\mathbf{e}_z\\\\\n",
    "&= \\frac 1R\\bigl(\\mathbf{e}_z\\times\\mathbf{v}\\bigr) \\otimes \\mathbf{e}_\\theta + v_i' \\mathbf{e}_i\\otimes \\mathbf{e}_z,\n",
    "\\end{aligned}\n",
    "\\end{equation*}\n",
    "where $'$ denotes derivative with respect to $z$.\n",
    "\n",
    "In matrix form, remember that the tensor product of two vectors $\\mathbf{v}$ and $\\mathbf{w}$ is the following matrix product of their matrix representations $\\mathsf{v}$ and $\\mathsf{w}$: $\\mathbf{v}\\otimes\\mathbf{w}\\leftrightarrow\\mathsf{v}\\cdot\\mathsf{w}^\\mathsf{T}$. These considerations result in the following definition of the `Grad` function"
   ]
  },
  {
   "cell_type": "code",
   "execution_count": null,
   "id": "8267daad-1786-4936-8100-7ad0b9162c0f",
   "metadata": {},
   "outputs": [],
   "source": [
    "def Grad(v):\n",
    "    return (e_z.cross(v) @ e_θ.T)/ R + v.diff(z) @ e_z.T"
   ]
  },
  {
   "cell_type": "markdown",
   "id": "fd88ff18-20ff-4564-95c3-f1759aa8b436",
   "metadata": {},
   "source": [
    "where `@` denotes the matrix-matrix product in Python."
   ]
  },
  {
   "cell_type": "markdown",
   "id": "663b0a80-dc07-441a-999f-24623cca7a46",
   "metadata": {},
   "source": [
    "## 2. Evaluation of the *exact* generalized strains\n",
    "\n",
    "We need to evaluate the potential energy of the cylinder for any displacement field $\\vec u$. We will restrict the analysis to axisymmetric modes. Note that for the purpose of stability analyses, this is generally not sufficient, as instability tends to **break symmetries**.\n",
    "\n",
    "The displacement field we consider is therefore decomposed as follows\n",
    "\n",
    "\\begin{equation*}\n",
    "\\mathbf{u}=v(z)\\,\\mathbf{e}_z + w(z)\\,\\mathbf{e}_r,\n",
    "\\end{equation*}\n",
    "\n",
    "where $v$ and $w$ are two functions of the variable $z$, defined as the following symbolic functions in `sympy`"
   ]
  },
  {
   "cell_type": "code",
   "execution_count": null,
   "id": "942c704e-a5ac-4860-a39d-631784390d1a",
   "metadata": {},
   "outputs": [],
   "source": [
    "v = sympy.Function(\"v\")\n",
    "w = sympy.Function(\"w\")"
   ]
  },
  {
   "cell_type": "markdown",
   "id": "298152ee-58ae-4a1b-af11-a3d5c521b79f",
   "metadata": {},
   "source": [
    "Note that the variables the these functions depend upon has not been specified yet. We just need to write `v(z)` to express that the function $v$ is evaluated at the point $z$. This means that `sympy` does *not* know the number of variables upon which these functions depend!"
   ]
  },
  {
   "cell_type": "markdown",
   "id": "c6a542c5-d318-4c27-8349-04a789cadebc",
   "metadata": {},
   "source": [
    "As already mentioned before, we need to account for *geometric non-linearities* in the present analysis. This means that the generalized strains will not be linearized with respect to $v$ and $w$. However, keeping all non-linear terms would lead to an overly complicated calculation. We will therefore keep only the minimal number of non linear terms.\n",
    "\n",
    "It is generally assumed that the transverse displacement $w$ is of order 1, while the tangential displacement $v$ is of order 2. In order to facilitate the analysis of the order of the various terms, we introduce a fictitious, dimensionless gage parameter $\\gamma$ as follows."
   ]
  },
  {
   "cell_type": "code",
   "execution_count": null,
   "id": "2715237e-8caf-41e7-9b35-2b01e29ec895",
   "metadata": {},
   "outputs": [],
   "source": [
    "γ = sympy.Symbol(\"\\gamma\", positive=True)\n",
    "u = sympy.Matrix([γ * w(z), 0, γ**2 * v(z)])\n",
    "u"
   ]
  },
  {
   "cell_type": "markdown",
   "id": "3f60f38d-57e1-481c-93b9-4eba347b951d",
   "metadata": {},
   "source": [
    "The above definition indeed expresses that the $z$ component of the displacement is a second order term $\\mathcal O(\\gamma^2)$, while the normal component is of the first order $\\mathcal O(\\gamma)$. Note that in the `sympy` terminology, `u` is an expression, not a function: it is the displacement evaluated at `z`. Conversely, `v` and `w` are functions, and the evaluation point must be specified explicitly: `v(z)`, `w(z)`."
   ]
  },
  {
   "cell_type": "markdown",
   "id": "a7338d64-0f14-46bb-b140-b5dd77e418b7",
   "metadata": {},
   "source": [
    "We are now ready to evaluate the generalized strains $\\mathbf E$ and $\\mathbf K$ induced by the above displacement. We start with the deformation gradient, $\\mathbf F$"
   ]
  },
  {
   "cell_type": "code",
   "execution_count": null,
   "id": "3002e104-8b94-4053-af8f-a4f1005a1410",
   "metadata": {},
   "outputs": [],
   "source": [
    "F = A + Grad(u)\n",
    "F"
   ]
  },
  {
   "cell_type": "markdown",
   "id": "1e344245-b3ff-494a-88f9-84079ff57744",
   "metadata": {},
   "source": [
    "We then compute and expand the *exact* membrane strains"
   ]
  },
  {
   "cell_type": "code",
   "execution_count": null,
   "id": "53db9cb2-1b13-445f-9dbe-183659fa2e0f",
   "metadata": {},
   "outputs": [],
   "source": [
    "E_exact = sympy.expand((F.T @ F - A) / 2)\n",
    "E_exact"
   ]
  },
  {
   "cell_type": "markdown",
   "id": "5b2e96b9-ab6b-44f1-80d3-42520c9a5f02",
   "metadata": {},
   "source": [
    "We now turn to the curvature change, $\\mathbf{K}$, defined as follows\n",
    "\n",
    "\\begin{equation*}\n",
    "\\mathbf{K}\n",
    "= \\mathbf{F}^\\mathsf{T}\\cdot\\mathbf{b}\\cdot\\mathbf{F}\n",
    "= -\\mathbf{F}^\\mathsf{T}\\cdot\\operatorname{\\textbf{grad}}\\mathbf{n}\\cdot\\mathbf{F},\n",
    "\\end{equation*}\n",
    "\n",
    "where $\\mathbf{b}=-\\operatorname{\\textbf{grad}}\\mathbf{n}$ denotes the *current* curvature tensor, and $\\textbf{grad}$ is the surface gradient over the *current* configuration. We have shown the following formula that relates gradients on the initial and current configurations\n",
    "\n",
    "\\begin{equation*}\n",
    "\\operatorname{\\textbf{grad}}\\mathbf{n}\\cdot\\mathbf{F}=\\operatorname{\\textbf{Grad}}\\mathbf{n},\n",
    "\\end{equation*}\n",
    "\n",
    "that will be used below. We first compute the outer unit normal $\\mathbf{n}$ to the *current* configuration as follows. The current point $\\mathsf m$ on the current configuration is defined as follows\n",
    "\n",
    "\\begin{equation*}\n",
    "\\vec{\\mathsf{m}} = \\bigl(R + w\\bigr)\\mathbf{e}_r + \\bigl(z + v\\bigr)\\mathbf{e}_z,\n",
    "\\end{equation*}\n",
    "\n",
    "we therefore find the following tangent vectors\n",
    "\n",
    "\\begin{align*}\n",
    "\\partial_\\theta\\vec{\\mathsf{m}} &= R\\,\\mathbf{e}_\\theta + \\mathbf{e}_z \\times \\vec u,\\\\\n",
    "\\partial_z\\vec{\\mathsf{m}} &= e_z + u_i'\\mathbf{e}_i.\n",
    "\\end{align*}"
   ]
  },
  {
   "cell_type": "code",
   "execution_count": null,
   "id": "6ec3a5ed-1dd5-4db9-8633-64d999f92e69",
   "metadata": {},
   "outputs": [],
   "source": [
    "a_θ = R * e_θ + e_z.cross(u)\n",
    "a_z = e_z + u.diff(z)"
   ]
  },
  {
   "cell_type": "markdown",
   "id": "35b8dcb0-7df7-4987-bfb8-3894cb7ff76e",
   "metadata": {},
   "source": [
    "We then define the normal $\\mathbf{n}$ as the normalized vector $\\partial_\\theta\\vec{\\mathsf m}\\times\\partial_z\\vec{\\mathsf m}$."
   ]
  },
  {
   "cell_type": "code",
   "execution_count": null,
   "id": "4038cea0-a688-43a0-ac75-5d75b3b3de1b",
   "metadata": {},
   "outputs": [],
   "source": [
    "n_ = sympy.factor(a_θ.cross(a_z) / (R + γ * w(z)))\n",
    "n = n_ / n_.norm()"
   ]
  },
  {
   "cell_type": "markdown",
   "id": "66b16829-1f49-48c4-bc4c-e79f1f434fbf",
   "metadata": {},
   "source": [
    "From which we find the exact expression of the curvature change."
   ]
  },
  {
   "cell_type": "code",
   "execution_count": null,
   "id": "bb73079e-3c8a-4be6-a76d-dcfbd737becc",
   "metadata": {},
   "outputs": [],
   "source": [
    "bF = -Grad(n)\n",
    "K_exact = F.T @ bF - B\n",
    "K_exact = K_exact.applyfunc(sympy.ratsimp)\n",
    "K_exact"
   ]
  },
  {
   "cell_type": "markdown",
   "id": "8b714e48-bdd0-4964-a4b7-01eefddef4d2",
   "metadata": {
    "tags": []
   },
   "source": [
    "## Evaluation of the approximate generalized strains\n",
    "\n",
    "Donnell's approximation of the generalized strains, that will be introduced below, corresponds to keeping the leading order term of each coefficient of $\\mathbf{E}$ and $\\mathbf{K}$. We use the method `leadterm`."
   ]
  },
  {
   "cell_type": "code",
   "execution_count": null,
   "id": "93a1bd4f-5a84-4094-9292-986fa98499e5",
   "metadata": {},
   "outputs": [],
   "source": [
    "E = E_exact.applyfunc(lambda expr: expr.leadterm(γ)[0])\n",
    "E"
   ]
  },
  {
   "cell_type": "markdown",
   "id": "1ad3505b-8e2f-48b6-94f5-42677255ec04",
   "metadata": {},
   "source": [
    "It is observed that $E_{\\theta\\theta}$ is of order 1, while $E_{zz}$ is of order 2. We apply the same function to the coefficient of the curvature change tensor."
   ]
  },
  {
   "cell_type": "code",
   "execution_count": null,
   "id": "c717bce2-13bd-4613-9232-67cdccc05353",
   "metadata": {},
   "outputs": [],
   "source": [
    "K = K_exact.applyfunc(lambda expr: expr.leadterm(γ)[0])\n",
    "K"
   ]
  },
  {
   "cell_type": "markdown",
   "id": "280d5871-8e1d-4baa-a9ae-9891f39210a2",
   "metadata": {},
   "source": [
    "We perform a further (not really justified!) simplification by nullifying the $K_{\\theta\\theta}$ coefficient."
   ]
  },
  {
   "cell_type": "code",
   "execution_count": null,
   "id": "748f596f-1027-4f45-9c03-25ca3bf3110e",
   "metadata": {},
   "outputs": [],
   "source": [
    "K[1, 1] = 0\n",
    "K"
   ]
  },
  {
   "cell_type": "markdown",
   "id": "553a66b7-f604-4600-8b7d-01f1662501bc",
   "metadata": {},
   "source": [
    "We can now evaluate the potential energy of the cylindrical shell."
   ]
  },
  {
   "cell_type": "markdown",
   "id": "42415cb5-9458-4fde-ae5e-2d95da0d0996",
   "metadata": {},
   "source": [
    "## Evaluation of the potential energy of the shell\n",
    "\n",
    "We use the formula: $\\Pi = \\mathcal U - \\mathcal V$, where $U$ is the strain energy of the shell and $V$ is the potential of external forces. The general expression of the strain energy is given by the following integral\n",
    "\n",
    "\\begin{equation*}\n",
    "\\mathcal U=\\frac12\\int_\\Sigma\\bigl(\\mathbf{N}:\\mathbf{E}+\\mathbf{M}:\\mathbf{K}\\bigr)\\,\\mathrm{d}A,\n",
    "\\end{equation*}\n",
    "where $\\mathbf{N}$ and $\\mathbf{M}$ are the generalized strains associated to $\\mathbf{E}$ and $\\mathbf{K}$. We first compute these generalized stresses."
   ]
  },
  {
   "cell_type": "code",
   "execution_count": null,
   "id": "2fe8495e-0b92-48ec-a167-a6377686b36c",
   "metadata": {},
   "outputs": [],
   "source": [
    "N = Eh / (1 - ν**2) * ((1 - ν) * E + ν * E.trace() * A)\n",
    "M = D * ((1 - ν) * K + ν * K.trace() * A)"
   ]
  },
  {
   "cell_type": "markdown",
   "id": "0867f2ec-a009-4f30-ad45-c92dc3ded571",
   "metadata": {},
   "source": [
    "From which we deduce the expression of the strain energy"
   ]
  },
  {
   "cell_type": "code",
   "execution_count": null,
   "id": "8ccbef2c-c95d-44f7-91dd-708775fe6e4b",
   "metadata": {},
   "outputs": [],
   "source": [
    "𝒰 = 2 * sympy.pi * R * sympy.Integral(sympy.trace(N @ E + M @ K) / 2, (z, 0, L))"
   ]
  },
  {
   "cell_type": "markdown",
   "id": "2074ac8d-3828-4712-840f-035ce82da1e7",
   "metadata": {},
   "source": [
    "Note that we defined this expression as an `Integral` object, which represents an unevaluated integral.\n",
    "\n",
    "The potential of external forces $\\mathcal V$, is given by the following expression\n",
    "\\begin{equation*}\n",
    "\\mathcal V = -\\int_{z=L} q\\,v(L)\\,\\mathrm{d} s=-2\\pi\\,R\\,q\\,v(L).\n",
    "\\end{equation*}"
   ]
  },
  {
   "cell_type": "code",
   "execution_count": null,
   "id": "5784dec6-cc96-4323-8d0e-d180a827b3b6",
   "metadata": {},
   "outputs": [],
   "source": [
    "𝒱 = -2 * sympy.pi * R * q * v(L)"
   ]
  },
  {
   "cell_type": "markdown",
   "id": "889c752b-aafe-420a-815a-a6b9f1877207",
   "metadata": {},
   "source": [
    "And we finally have the expression of the total potential energy $\\Pi$."
   ]
  },
  {
   "cell_type": "code",
   "execution_count": null,
   "id": "45b3403b-78ba-4fd4-8968-4eaa19515fa4",
   "metadata": {},
   "outputs": [],
   "source": [
    "Π = 𝒰 - 𝒱\n",
    "Π.expand()"
   ]
  },
  {
   "cell_type": "markdown",
   "id": "d73b6401-6483-4b85-8cb5-510b1c640030",
   "metadata": {},
   "source": [
    "## Equilibrium equations\n",
    "\n",
    "The equilibrium equations express the *stationarity* of the energy. Therefore, we evaluate $\\mathrm{D}\\Pi$, the differential of the potential energy. We use the following practical definition (that requires sufficient regularity of $\\Pi$) based on *directional derivatives*\n",
    "\n",
    "\\begin{equation*}\n",
    "\\mathrm{D}\\Pi(v, w, q; \\delta v, \\delta w)=\\lim_{t\\to0}\\frac{\\Pi(v+t\\,\\delta v, w+t\\,\\delta w, q)-\\Pi(v, w, q)}{t}\n",
    "=\\frac{\\mathrm{d}}{\\mathrm{d}t}\\Pi(v+t\\,\\delta v, w+t\\,\\delta w, q)\\bigl|_{t=0}.\n",
    "\\end{equation*}\n",
    "\n",
    "We first define the test functions $\\delta v$ and $\\delta w$ and the parameter t."
   ]
  },
  {
   "cell_type": "code",
   "execution_count": null,
   "id": "bec41e43-5023-480c-ad8d-535d30b23514",
   "metadata": {},
   "outputs": [],
   "source": [
    "t = sympy.Symbol(\"t\")\n",
    "δv = sympy.Function(r\"\\delta v\")\n",
    "δw = sympy.Function(r\"\\delta w\")"
   ]
  },
  {
   "cell_type": "markdown",
   "id": "20c2b42f-6934-434b-8e7b-e419d6b8732c",
   "metadata": {},
   "source": [
    "We then substitute $v+t\\,\\delta v\\to v$ and $w+t\\,\\delta w\\to w$ into the expression of the potential energy to obtain the perturbed potential energy, $\\Pi'$."
   ]
  },
  {
   "cell_type": "code",
   "execution_count": null,
   "id": "d7fa85d4-c70d-4c75-86f7-260f4535c25f",
   "metadata": {},
   "outputs": [],
   "source": [
    "perturbation = {v(L): v(L) + t * δv(L), # TODO This repetition is uggly. But `v : v + δv` raises an exception\n",
    "                v(z): v(z) + t * δv(z),\n",
    "                w(z): w(z) + t * δw(z)}\n",
    "Π_1 = Π.subs(perturbation)"
   ]
  },
  {
   "cell_type": "code",
   "execution_count": null,
   "id": "dcf92764-e12b-41cc-a488-9c476f32abf3",
   "metadata": {},
   "outputs": [],
   "source": [
    "DΠ = Π_1.diff(t).subs(t, 0)"
   ]
  },
  {
   "cell_type": "code",
   "execution_count": null,
   "id": "b3c3824f-ce8a-42c5-ba4e-a9c618f0acd8",
   "metadata": {},
   "outputs": [],
   "source": [
    "DΠ.expand()"
   ]
  },
  {
   "cell_type": "markdown",
   "id": "da588bfb-886c-41b8-aafb-7d2f7133e53d",
   "metadata": {},
   "source": [
    "## Fundamental branch\n",
    "\n",
    "We seek a particular solution of the form $v = \\alpha\\, z$ and $w = \\beta\\, R$, where $\\alpha$ and $\\beta$ are two constants. To find the value of $\\alpha$ and $\\beta$, we first minimize the energy with respect to to these two scalars. We will then need to check that the residual $\\mathrm{D}\\Pi$ vanishes for *all* test functions.\n",
    "\n",
    "We first define the unknowns $\\alpha$ and $\\beta$."
   ]
  },
  {
   "cell_type": "code",
   "execution_count": null,
   "id": "a6ee7fa0-72e0-45ca-82bb-8cb41ba98665",
   "metadata": {},
   "outputs": [],
   "source": [
    "α, β = sympy.symbols(r\"\\alpha \\beta\")"
   ]
  },
  {
   "cell_type": "markdown",
   "id": "1280d236-29fa-447f-b957-0fcaec0f97c4",
   "metadata": {},
   "source": [
    "We then substitute the expressions of $v^\\star$ and $w^\\star$ in the potential energy, which becomes a function of $\\alpha$, $\\beta$ and $q$ only."
   ]
  },
  {
   "cell_type": "code",
   "execution_count": null,
   "id": "bd790e8b-4f8b-4c8f-bab9-6cb1e9ebd996",
   "metadata": {},
   "outputs": [],
   "source": [
    "fundamental = {v(x): α * x for x in [0, L, z]}\n",
    "fundamental.update({w(x): β * R for x in [0, L, z]})\n",
    "fundamental"
   ]
  },
  {
   "cell_type": "markdown",
   "id": "b356a2ea-7bf5-4073-9f18-269e43328f29",
   "metadata": {},
   "source": [
    "The total potential energy now becomes a function of $\\alpha$ an $\\beta$ only."
   ]
  },
  {
   "cell_type": "code",
   "execution_count": null,
   "id": "c72479ea-ac50-404d-9fa5-45d09aff53c4",
   "metadata": {},
   "outputs": [],
   "source": [
    "Π_star = Π.subs(fundamental).doit().factor()\n",
    "Π_star"
   ]
  },
  {
   "cell_type": "markdown",
   "id": "bcc9107e-b2fc-4e55-81c6-85581f760760",
   "metadata": {},
   "source": [
    "To find the optimal values of $\\alpha$ and $\\beta$, we write that both derivatives with respect to these two variables must vanish. This leads to the following equations."
   ]
  },
  {
   "cell_type": "code",
   "execution_count": null,
   "id": "500bb8bc-3e92-47fe-9735-d8c6246e8228",
   "metadata": {},
   "outputs": [],
   "source": [
    "eq1 = Π_star.diff(α)\n",
    "eq2 = Π_star.diff(β)\n",
    "display(sympy.Equality(eq1, 0))\n",
    "display(sympy.Equality(eq2, 0))"
   ]
  },
  {
   "cell_type": "markdown",
   "id": "268339f5-286a-450a-a7d2-b4e2b490913d",
   "metadata": {},
   "source": [
    "Which can readily be solved."
   ]
  },
  {
   "cell_type": "code",
   "execution_count": null,
   "id": "e00ddca6-e584-4f41-8f2b-15e15a4e51c6",
   "metadata": {},
   "outputs": [],
   "source": [
    "sol = sympy.solve([eq1, eq2], [α, β])\n",
    "sol"
   ]
  },
  {
   "cell_type": "markdown",
   "id": "d82f5b8a-3fed-42d7-b9fe-f605fd8d5ddf",
   "metadata": {},
   "source": [
    "And we find the expressions of $v^\\star$, $w^\\star$."
   ]
  },
  {
   "cell_type": "code",
   "execution_count": null,
   "id": "946dfefd-1105-4cfe-9445-85569ad4e9aa",
   "metadata": {},
   "outputs": [],
   "source": [
    "v_star = lambda z : sol[α] * z\n",
    "v_star(z)"
   ]
  },
  {
   "cell_type": "code",
   "execution_count": null,
   "id": "ac05ef96-ec66-4a5d-a159-d462bc3fc6d5",
   "metadata": {},
   "outputs": [],
   "source": [
    "w_star = lambda z : sol[β] * R\n",
    "w_star(z)"
   ]
  },
  {
   "cell_type": "markdown",
   "id": "942b935f-fe98-412a-a6b5-0c03f224b1c9",
   "metadata": {},
   "source": [
    "Remember that we have yet extremized the total potential energy over the space of displacements fields that are of the form $v(z)=\\alpha\\,z$ and $w(z)=\\beta\\,R$. We now check that the values of $\\alpha$ and $\\beta$ found above indeed provide an equilibrium path. To do so, we plug $v^\\star$ and $w^\\star$ in the residual $\\mathrm{D}\\Pi$."
   ]
  },
  {
   "cell_type": "code",
   "execution_count": null,
   "id": "cf55dd10-9067-412a-a2bd-780d6637e6db",
   "metadata": {},
   "outputs": [],
   "source": [
    "fundamental = {v(x): v_star(x) for x in [0, L, z]}\n",
    "fundamental.update({w(x): w_star(x) for x in [0, L, z]})\n",
    "fundamental"
   ]
  },
  {
   "cell_type": "code",
   "execution_count": null,
   "id": "706ad915-d9e8-4713-8b3c-53593cc84a2e",
   "metadata": {},
   "outputs": [],
   "source": [
    "DΠ.subs(fundamental).doit().doit().expand()"
   ]
  },
  {
   "cell_type": "markdown",
   "id": "b7b987e2-8e63-478a-af44-ff668d66e7f6",
   "metadata": {},
   "source": [
    "Which is indeed 0, since $v(0)=0$."
   ]
  },
  {
   "cell_type": "markdown",
   "id": "0fbfc485-8760-41b3-afc7-c0b216efc3a5",
   "metadata": {},
   "source": [
    "## Simplified stability analysis of the fundamental branch\n",
    "\n",
    "To analyse the stability of the fundamental branch, we must find the sign of the following quantity\n",
    "\n",
    "\\begin{equation*}\n",
    "\\Pi[v^\\star(q)+\\delta v, w^\\star(q)+\\delta w, q]-\\Pi[v^\\star(q), w^\\star(q), q],\n",
    "\\end{equation*}\n",
    "\n",
    "for *any* test functions $\\delta v$ and $\\delta w$ (with $\\delta v(0)$).\n",
    "\n",
    "In the present section, we perform a simplified stability analysis, where we consider buckling modes of the form\n",
    "\n",
    "\\begin{equation*}\n",
    "\\delta v(z) = \\delta V\\cos(\\pi z / L)\n",
    "\\quad\\text{and}\\quad\n",
    "\\delta w(z) = \\delta W\\sin(\\pi x / L).\n",
    "\\end{equation*}\n",
    "\n",
    "If, for these specific test functions, the above quantity is negative, then the equilibrium is surely unstable. Conversely, if the quantity is positive, it is not possible to assert the stability of the equilibrium. This approach therefore provides an upper estimate of the critical load."
   ]
  },
  {
   "cell_type": "code",
   "execution_count": null,
   "id": "7c92cf8f-84d4-40bb-b323-b8a66ef9b105",
   "metadata": {},
   "outputs": [],
   "source": [
    "δV = sympy.Symbol(r\"\\delta V\")\n",
    "δW = sympy.Symbol(\"\\delta W\")"
   ]
  },
  {
   "cell_type": "code",
   "execution_count": null,
   "id": "7b62e065-9e6b-4ff6-8f72-1e559a554f08",
   "metadata": {},
   "outputs": [],
   "source": [
    "perturbation = {v(x): v_star(x) + δV * sympy.sin(sympy.pi * (x / L)) for x in [0, L, z]}\n",
    "perturbation.update({w(x): w_star(x) + δW * sympy.cos(sympy.pi * x / L) for x in [0, L, z]})\n",
    "perturbation"
   ]
  },
  {
   "cell_type": "code",
   "execution_count": null,
   "id": "772044e7-e650-4780-8cfd-c6d12af4224c",
   "metadata": {},
   "outputs": [],
   "source": [
    "Π1 = Π.subs(perturbation).doit().expand()"
   ]
  },
  {
   "cell_type": "code",
   "execution_count": null,
   "id": "41c6b62b-f389-42b9-a938-9652f37092c8",
   "metadata": {},
   "outputs": [],
   "source": [
    "Π1"
   ]
  },
  {
   "cell_type": "markdown",
   "id": "06cbf403-df3f-4e93-863c-a568e9bbd26e",
   "metadata": {},
   "source": [
    "The perturbed energy is a polynomial function of the two parameters $\\delta V$ and $\\delta W$. As expected, the linear terms vanish."
   ]
  },
  {
   "cell_type": "code",
   "execution_count": null,
   "id": "ec4fbebb-879b-4970-bc07-2be526704166",
   "metadata": {},
   "outputs": [],
   "source": [
    "assert Π1.coeff(δV, 1).coeff(δW, 0).factor() == 0\n",
    "assert Π1.coeff(δV, 0).coeff(δW, 1).factor() == 0"
   ]
  },
  {
   "cell_type": "markdown",
   "id": "b010070e-c808-45da-891d-8879c8c45560",
   "metadata": {},
   "source": [
    "Therefore, to analyse the sign of the perturbed energy in the neighborhood of the fundamental branch, it is sufficient to look at the Hessian as a quadratic form of the variables $\\delta V$ and $\\delta W$. The coefficients of this quadratic form are extracted below."
   ]
  },
  {
   "cell_type": "code",
   "execution_count": null,
   "id": "f5e327bf-4cb1-4222-b55f-a960c2a0d073",
   "metadata": {},
   "outputs": [],
   "source": [
    "H_vv = Π1.coeff(δV, 2).coeff(δW, 0).factor()\n",
    "H_vv"
   ]
  },
  {
   "cell_type": "code",
   "execution_count": null,
   "id": "43300d5e-81c7-48e3-ba63-af8f23a1c53d",
   "metadata": {},
   "outputs": [],
   "source": [
    "H_ww = Π1.coeff(δV, 0).coeff(δW, 2).factor()\n",
    "H_ww.expand()"
   ]
  },
  {
   "cell_type": "code",
   "execution_count": null,
   "id": "5afc962f-8954-4e0e-8b3d-d89d65c5f553",
   "metadata": {},
   "outputs": [],
   "source": [
    "H_vw = Π1.coeff(δV, 1).coeff(δW, 1).factor() / 2\n",
    "H_vw"
   ]
  },
  {
   "cell_type": "markdown",
   "id": "e6a8094a-dfaf-472e-9566-c5a2a2a90674",
   "metadata": {},
   "source": [
    "For sufficiently small values of $q$, it can readily be shown that the quadratic form is positive definite (its eigenvalues are positive). For $q=q_\\mathrm{cr}$, one of the eigenvalues vanishes, therefore the determinant of the hessian vanishes."
   ]
  },
  {
   "cell_type": "code",
   "execution_count": null,
   "id": "05572caf-829f-4d4d-b958-7f254cd6120f",
   "metadata": {},
   "outputs": [],
   "source": [
    "det_H = sympy.expand(H_vv * H_ww - H_vw**2)\n",
    "det_H"
   ]
  },
  {
   "cell_type": "markdown",
   "id": "3eaf57ad-612d-4b78-acee-63d39edc6bb4",
   "metadata": {},
   "source": [
    "Nullifying this determinant provides the following estimate of the critical load."
   ]
  },
  {
   "cell_type": "code",
   "execution_count": null,
   "id": "944e4205-fba8-4b96-b769-ac18abea557c",
   "metadata": {},
   "outputs": [],
   "source": [
    "q_cr = sympy.solve(det_H, q)[0].expand()\n",
    "q_cr"
   ]
  }
 ],
 "metadata": {
  "kernelspec": {
   "display_name": "Python 3 (ipykernel)",
   "language": "python",
   "name": "python3"
  },
  "language_info": {
   "codemirror_mode": {
    "name": "ipython",
    "version": 3
   },
   "file_extension": ".py",
   "mimetype": "text/x-python",
   "name": "python",
   "nbconvert_exporter": "python",
   "pygments_lexer": "ipython3",
   "version": "3.9.12"
  }
 },
 "nbformat": 4,
 "nbformat_minor": 5
}
